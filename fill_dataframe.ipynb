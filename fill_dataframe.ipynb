{
 "cells": [
  {
   "cell_type": "code",
   "execution_count": 4,
   "metadata": {},
   "outputs": [],
   "source": [
    "import pandas as pd\n",
    "import json"
   ]
  },
  {
   "cell_type": "code",
   "execution_count": 31,
   "metadata": {},
   "outputs": [],
   "source": [
    "# reading files\n",
    "with open('data/transcripts/transcripts.json', 'r') as infile:\n",
    "    transcripts = json.load(infile)\n",
    "\n",
    "to_fill = pd.read_csv('data/to_fill.csv')\n",
    "# lists that are going to be added to the dataframe\n",
    "body = []\n",
    "start = []\n",
    "end = []\n",
    "\n",
    "for _, record in to_fill.iterrows():\n",
    "    # extract the news ID and its respective transcript\n",
    "    transcript_id = str(record['source_video_id'])\n",
    "    text = transcripts[transcript_id]['text']\n",
    "    words = transcripts[transcript_id]['words']\n",
    "\n",
    "    # calculate the indices of the beginning and end of the news\n",
    "    body_start = text.find(record['first_words'])\n",
    "    body_end = text.find(record['last_words']) + len(record['last_words'])\n",
    "\n",
    "    # append the news body to the list\n",
    "    body.append(text[body_start:body_end])\n",
    "\n",
    "    # find the index of the first word of the body\n",
    "    start_word_index = len(text[:body_start].split(' ')) - 1\n",
    "    end_word_index = len(text[:body_end].split(' ')) - 1\n",
    "\n",
    "    # append their start and finish time to respective lists\n",
    "    start.append(words[start_word_index]['start'])\n",
    "    end.append(words[start_word_index]['end'])"
   ]
  },
  {
   "cell_type": "code",
   "execution_count": 39,
   "metadata": {},
   "outputs": [],
   "source": [
    "# add each feature to the dataframe\n",
    "to_fill['body'] = body\n",
    "to_fill['start'] = start\n",
    "to_fill['end'] = end"
   ]
  }
 ],
 "metadata": {
  "kernelspec": {
   "display_name": "Python 3",
   "language": "python",
   "name": "python3"
  },
  "language_info": {
   "codemirror_mode": {
    "name": "ipython",
    "version": 3
   },
   "file_extension": ".py",
   "mimetype": "text/x-python",
   "name": "python",
   "nbconvert_exporter": "python",
   "pygments_lexer": "ipython3",
   "version": "3.10.7"
  },
  "orig_nbformat": 4
 },
 "nbformat": 4,
 "nbformat_minor": 2
}
